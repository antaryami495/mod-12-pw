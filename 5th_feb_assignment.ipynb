{
 "cells": [
  {
   "cell_type": "code",
   "execution_count": 5,
   "id": "5b4b166b-7ce2-47b7-bdc0-3b28e26ae155",
   "metadata": {},
   "outputs": [
    {
     "name": "stdout",
     "output_type": "stream",
     "text": [
      "welcome to pw skills\n"
     ]
    }
   ],
   "source": [
    "## 1.\n",
    "## Answer -\n",
    "\n",
    "\n",
    "##         -- Class is a detailed description, the definition, and the template of what an object will be. But it is not the object itself. \n",
    "##              Also, what we call, a class is the building block that leads to Object-Oriented Programming. It is a user-defined data type, \n",
    "##              that holds its own data members and member functions, which can be accessed and used by creating an instance of that class. \n",
    "##              It is the blueprint of any object.\n",
    "\n",
    "##         -- Object is an instance of a class. All data members and member functions of the class can be accessed with the help of objects.\n",
    "##              When a class is defined, no memory is allocated, but memory is allocated when it is instantiated (i.e. an object is created).\n",
    "\n",
    "##         EXAMPLE --\n",
    "##         Class -\n",
    "class pwskills :\n",
    "    def welcome_msg(self) :\n",
    "        print('welcome to pw skills')\n",
    "##         object-\n",
    "sachin = pwskills() ## Here sachin is the object of class pwskills.\n",
    "sachin.welcome_msg() ## here we called the method inside the class using the object"
   ]
  },
  {
   "cell_type": "code",
   "execution_count": 6,
   "id": "a5168558-59d9-437a-adb1-76b2b02ea907",
   "metadata": {},
   "outputs": [],
   "source": [
    "## 2.\n",
    "## Answer - \n",
    "\n",
    "## The Four Pillars of Object Oriented Programming\n",
    "##  -Abstraction.\n",
    "##  -Encapsulation.\n",
    "##  -Inheritance.\n",
    "##  -Polymorphism."
   ]
  },
  {
   "cell_type": "code",
   "execution_count": 8,
   "id": "d733d731-a11f-486e-8da8-ccaa1d4097e7",
   "metadata": {},
   "outputs": [
    {
     "data": {
      "text/plain": [
       "(7735903769, 'pandasachin947@gmail.com', 101)"
      ]
     },
     "execution_count": 8,
     "metadata": {},
     "output_type": "execute_result"
    }
   ],
   "source": [
    "##  3.\n",
    "##  Answer-\n",
    "\n",
    "##  The __init__ method lets the class initialize the object's attributes and serves no other purpose. It is only used within classes.\n",
    "##  Example -\n",
    "class pwskills1 :\n",
    "    def __init__(self , phone_number , email_id , student_id) :\n",
    "        self.phone_number = phone_number\n",
    "        self.email_id = email_id\n",
    "        self.student_id = student_id\n",
    "    def return_student_details(self) :\n",
    "        return self.phone_number , self.email_id , self.student_id\n",
    "sp = pwskills1(7735903769,'pandasachin947@gmail.com',101)    \n",
    "sp.return_student_details()   "
   ]
  },
  {
   "cell_type": "code",
   "execution_count": 9,
   "id": "3203b646-db81-4bd1-9b00-81bf2e19433e",
   "metadata": {},
   "outputs": [],
   "source": [
    "## 3.\n",
    "## Answer - \n",
    "\n",
    "\n",
    "##     Self represents the instance of the class. By using the “self” we can access the attributes and methods of the class in Python. \n",
    "##     It binds the attributes with the given arguments. The reason you need to use self. is because Python does not use the @ syntax \n",
    "##     to refer to instance attributes."
   ]
  },
  {
   "cell_type": "code",
   "execution_count": null,
   "id": "591b252c-6666-43ce-a5b9-221e77cf1790",
   "metadata": {},
   "outputs": [],
   "source": [
    "## 4.\n",
    "## Answer - \n",
    "\n",
    "## Inheritance is a mechanism in which one class acquires the property of another class. For example, a child inherits the traits\n",
    "##   of his/her parents. With inheritance, we can reuse the fields and methods of the existing class.\n",
    "\n",
    "## Types of inheritance -\n",
    "\n",
    "## Single Inheritance - In this inheritance, a derived class is created from a single base class .In the given example, Class A is \n",
    "##  the parent class and Class B is the child class since Class B inherits the features and behavior of the parent class A\n",
    "class A :\n",
    "    def a(self) :\n",
    "        print(\"This is a method of class A\")\n",
    "class B(A):\n",
    "    def b(self) :\n",
    "        print(\"This is a method of class B\")\n",
    "sach = B()     \n",
    "sach.a()\n",
    "sach.b() # Here you can see object of class b can access functions of class A.\n",
    "\n",
    "##  Multi-level Inheritance - In this inheritance, a derived class is created from another derived class.\n",
    "\n",
    "##  In the given example, class cc inherits the properties and behavior of class BB and class BB inherits the properties and behavior of class AA.\n",
    "##    So, here AA is the parent class of BB and class BB is the parent class of CC. So, here class CC implicitly inherits the properties and behavior\n",
    "##     of class AA along with Class BB i.e there is a multilevel of inheritance.\n",
    "class AA():\n",
    "    def aa(self):\n",
    "        print(\"This is a method of class AA\")\n",
    "class BB(AA):\n",
    "    def bb(self):\n",
    "        print(\"This is a method of class BB\")\n",
    "class CC(BB):\n",
    "    def cc(self):\n",
    "        print(\"This is a method of class CC\")\n",
    "panda = CC()\n",
    "panda.cc()\n",
    "panda.bb()\n",
    "panda.aa()\n",
    "\n",
    "##  Multiple inheritance - n this inheritance, a derived class is created from more than one base class. This inheritance is not supported by\n",
    "##    .NET Languages like C#, F#, etc., and Java Language.\n",
    "##      In the given example, class ccc inherits the properties and behavior of class BBB and class AAA at the same level. So, here AAA and Class BBB both\n",
    "##      are the parent classes for Class CCC.\n",
    "class AAA():\n",
    "    def aaa(self):\n",
    "        print(\"This is a method of class AAA\")\n",
    "class BBB():\n",
    "    def bbb(self):\n",
    "        print(\"This is a method of clas BBB\")\n",
    "class CCC(AAA,BBB):\n",
    "    def ccc(self):\n",
    "        print(\"This is a method of class CCC\")\n",
    "sp = CCC()\n",
    "sp."
   ]
  },
  {
   "cell_type": "code",
   "execution_count": null,
   "id": "0b240b13-0cc3-4103-afc3-7ab3030ab6fb",
   "metadata": {},
   "outputs": [],
   "source": []
  }
 ],
 "metadata": {
  "kernelspec": {
   "display_name": "Python 3 (ipykernel)",
   "language": "python",
   "name": "python3"
  },
  "language_info": {
   "codemirror_mode": {
    "name": "ipython",
    "version": 3
   },
   "file_extension": ".py",
   "mimetype": "text/x-python",
   "name": "python",
   "nbconvert_exporter": "python",
   "pygments_lexer": "ipython3",
   "version": "3.10.8"
  }
 },
 "nbformat": 4,
 "nbformat_minor": 5
}
